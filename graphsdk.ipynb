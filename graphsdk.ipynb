{
 "cells": [
  {
   "cell_type": "code",
   "execution_count": null,
   "metadata": {},
   "outputs": [],
   "source": [
    "print(\"Hello, Jupyter!\")"
   ]
  },
  {
   "cell_type": "markdown",
   "metadata": {},
   "source": [
    "## セットアップ"
   ]
  },
  {
   "cell_type": "code",
   "execution_count": null,
   "metadata": {},
   "outputs": [],
   "source": [
    "from azure.identity import ClientSecretCredential\n",
    "from msgraph import GraphServiceClient\n",
    "from dotenv import load_dotenv  # .env ファイルを読み込むためのライブラリ\n",
    "import os\n",
    "import traceback  # エラーの詳細を出力するためのモジュール\n",
    "\n",
    "# .env ファイルを読み込む\n",
    "load_dotenv()\n",
    "\n",
    "# Azure AD テナント ID、クライアント ID、クライアントシークレット\n",
    "tenant_id = os.getenv(\"TENANT_ID\")\n",
    "client_id = os.getenv(\"CLIENT_ID\")\n",
    "print(client_id)\n",
    "client_secret = os.getenv(\"CLIENT_SECRET\")\n",
    "user_id = os.getenv(\"USER_ID\")  # 取得したいユーザーの ID を指定\n",
    "room_id = os.getenv(\"ROOM_ID\")  # 取得したい会議室の ID を指定\n",
    "\n",
    "# 必要なスコープ\n",
    "scopes = ['https://graph.microsoft.com/.default']\n",
    "\n",
    "try:\n",
    "    # ClientSecretCredential を使用して認証\n",
    "    credential = ClientSecretCredential(\n",
    "        tenant_id=tenant_id,\n",
    "        client_id=client_id,\n",
    "        client_secret=client_secret\n",
    "    )\n",
    "\n",
    "    # Microsoft Graph クライアントを作成\n",
    "    graph_client = GraphServiceClient(credential, scopes)\n",
    "    print(\"Microsoft Graph クライアントの作成に成功しました。\")\n",
    "except Exception as e:\n",
    "    print(\"Microsoft Graph クライアントの作成に失敗しました:\")\n",
    "    print({e})\n",
    "    print(\"----------\")\n",
    "    traceback.print_exc()  # エラーの詳細を出力"
   ]
  },
  {
   "cell_type": "markdown",
   "metadata": {},
   "source": [
    "## ユーザー情報の取得\n",
    "https://learn.microsoft.com/ja-jp/graph/api/user-get?view=graph-rest-1.0&tabs=python#request"
   ]
  },
  {
   "cell_type": "code",
   "execution_count": null,
   "metadata": {},
   "outputs": [],
   "source": [
    "import asyncio\n",
    "\n",
    "# ユーザーを取得する非同期関数\n",
    "async def fetch_user(user_id):\n",
    "    result = await graph_client.users.by_user_id(user_id).get()\n",
    "    print(result)\n",
    "    print(result.display_name)\n",
    "    print(result.mail)\n",
    "\n",
    "# 非同期関数を実行\n",
    "await fetch_user(user_id)"
   ]
  },
  {
   "cell_type": "markdown",
   "metadata": {},
   "source": [
    "## ユーザー一覧の取得  \n",
    "会議室もユーザーと同様に取得可能  \n",
    "https://stackoverflow.com/questions/56288573/isresourceaccount-always-null  \n",
    "`Is Resource Account` はまだ使えないため、これで判別は難しいかも。後述する会議室一覧取得を使用するといい。  \n",
    "https://learn.microsoft.com/en-us/graph/api/resources/user?view=graph-rest-1.0#properties"
   ]
  },
  {
   "cell_type": "code",
   "execution_count": null,
   "metadata": {},
   "outputs": [],
   "source": [
    "import asyncio\n",
    "\n",
    "# ユーザー一覧を取得する非同期関数\n",
    "async def fetch_users():\n",
    "    users_response = await graph_client.users.get()  # UserCollectionResponse オブジェクトを取得\n",
    "    users = users_response.value  # ユーザーリストは value プロパティに格納されている\n",
    "    for user in users:\n",
    "        print(f\"Email: {user.mail}, ID: {user.id}, Display Name: {user.display_name}, Is Resource Account: {user.is_resource_account}\")\n",
    "        #print(user)\n",
    "\n",
    "# 非同期関数を実行\n",
    "await fetch_users()"
   ]
  },
  {
   "cell_type": "markdown",
   "metadata": {},
   "source": [
    "## カレンダー取得"
   ]
  },
  {
   "cell_type": "code",
   "execution_count": null,
   "metadata": {},
   "outputs": [],
   "source": [
    "import asyncio\n",
    "\n",
    "# 特定のユーザーのカレンダーを取得する非同期関数\n",
    "async def fetch_user_calendars(user_id):\n",
    "    # by_user_id メソッドを使用して特定のユーザーを指定\n",
    "    user_request = graph_client.users.by_user_id(user_id)\n",
    "    calendars_response = await user_request.calendars.get()  # User のカレンダーを取得\n",
    "    calendars = calendars_response.value  # カレンダーリストは value プロパティに格納されている\n",
    "    for calendar in calendars:\n",
    "        print(f\"ID: {calendar.id}, Name: {calendar.name}\")\n",
    "\n",
    "# 非同期関数を実行\n",
    "# 取得したいユーザーの ID を指定\n",
    "await fetch_user_calendars(user_id)"
   ]
  },
  {
   "cell_type": "markdown",
   "metadata": {},
   "source": [
    "## イベント取得  \n",
    "https://learn.microsoft.com/ja-jp/graph/api/user-list-events?view=graph-rest-1.0&tabs=python#request"
   ]
  },
  {
   "cell_type": "code",
   "execution_count": null,
   "metadata": {},
   "outputs": [],
   "source": [
    "import asyncio\n",
    "\n",
    "async def get_user_events(user_id):\n",
    "    #from msgraph.generated.users.item.events.events_request_builder import EventsRequestBuilder\n",
    "\n",
    "    #query_params = EventsRequestBuilder.EventsRequestBuilderGetQueryParameters(\n",
    "    #    select=[\"subject\", \"start\", \"end\"],  # 適切なプロパティを指定\n",
    "    #)\n",
    "\n",
    "    # 特定のユーザーのイベントを取得\n",
    "    user_events = graph_client.users.by_user_id(user_id).events\n",
    "    result = await user_events.get()\n",
    "    print(result)\n",
    "\n",
    "    # subject の一覧を出力\n",
    "    for event in result.value:\n",
    "        print(event.subject, event.start, event.end, event.location, event.body)\n",
    "\n",
    "# 非同期関数を実行\n",
    "await get_user_events(user_id)"
   ]
  },
  {
   "cell_type": "markdown",
   "metadata": {},
   "source": [
    "## イベント登録  \n",
    "`transaction_id`を設定することによって重複登録対策可能 UUID等設定"
   ]
  },
  {
   "cell_type": "code",
   "execution_count": null,
   "metadata": {},
   "outputs": [],
   "source": [
    "import asyncio\n",
    "from datetime import datetime  # datetime モジュールをインポート\n",
    "\n",
    "async def post_user_events(user_id):\n",
    "    from msgraph.generated.users.item.events.events_request_builder import EventsRequestBuilder\n",
    "    from kiota_abstractions.base_request_configuration import RequestConfiguration\n",
    "    from msgraph.generated.models.event import Event\n",
    "    from msgraph.generated.models.item_body import ItemBody\n",
    "    from msgraph.generated.models.body_type import BodyType\n",
    "    from msgraph.generated.models.date_time_time_zone import DateTimeTimeZone\n",
    "    from msgraph.generated.models.location import Location\n",
    "    from msgraph.generated.models.attendee import Attendee\n",
    "    from msgraph.generated.models.email_address import EmailAddress\n",
    "    from msgraph.generated.models.attendee_type import AttendeeType\n",
    "\n",
    "    # 現在の日時を取得してフォーマット\n",
    "    current_time = datetime.now().strftime(\"%Y/%m/%d %H:%M:%S\")\n",
    "\n",
    "    request_body = Event(\n",
    "        subject = f\"{current_time}Let's go for lunch\",  # subject に日時を追加\n",
    "        body = ItemBody(\n",
    "            content_type = BodyType.Html,\n",
    "            content = \"Does noon work for you?\",\n",
    "        ),\n",
    "        start = DateTimeTimeZone(\n",
    "            date_time = \"2025-04-15T17:00:00\",\n",
    "            time_zone = \"Pacific Standard Time\",\n",
    "        ),\n",
    "        end = DateTimeTimeZone(\n",
    "            date_time = \"2025-04-15T19:00:00\",\n",
    "            time_zone = \"Pacific Standard Time\",\n",
    "        ),\n",
    "        location = Location(\n",
    "            display_name = \"Harry's Bar\",\n",
    "        ),\n",
    "        allow_new_time_proposals = True,\n",
    "        # transaction_id = \"7E163156-7762-4BEB-A1C6-729EA81755A7\",\n",
    "    )\n",
    "\n",
    "    request_configuration = RequestConfiguration()\n",
    "    request_configuration.headers.add(\"Prefer\", \"outlook.timezone=\\\"Pacific Standard Time\\\"\")\n",
    "\n",
    "    # 特定のユーザーのイベントを登録\n",
    "    # イベントを作成\n",
    "    result = await graph_client.users.by_user_id(user_id).events.post(request_body)\n",
    "    print(result)\n",
    "\n",
    "# 非同期関数を実行\n",
    "await post_user_events(user_id)"
   ]
  },
  {
   "cell_type": "markdown",
   "metadata": {},
   "source": [
    "## 会議室一覧取得  \n",
    "https://learn.microsoft.com/ja-jp/graph/api/place-list?view=graph-rest-1.0&tabs=python"
   ]
  },
  {
   "cell_type": "code",
   "execution_count": null,
   "metadata": {},
   "outputs": [],
   "source": [
    "import asyncio\n",
    "\n",
    "async def get_place():\n",
    "\n",
    "    #result = await graph_client.places.graph_room_list.get()\n",
    "    result = await graph_client.places.graph_room.get()\n",
    "    print(result)\n",
    "    for place in result.value:\n",
    "        print(f\"ID: {place.id}, Display Name: {place.display_name}, Email: {place.email_address}\")\n",
    "\n",
    "# 非同期関数を実行\n",
    "await get_place()"
   ]
  },
  {
   "cell_type": "markdown",
   "metadata": {},
   "source": [
    "## 会議室イベント取得"
   ]
  },
  {
   "cell_type": "code",
   "execution_count": null,
   "metadata": {},
   "outputs": [],
   "source": [
    "import asyncio\n",
    "\n",
    "async def get_user_events(user_id):\n",
    "    # from msgraph import GraphServiceClient\n",
    "    # To initialize your graph_client, see https://learn.microsoft.com/en-us/graph/sdks/create-client?from=snippets&tabs=python\n",
    "\n",
    "    result = await graph_client.users.by_user_id(user_id).calendar.events.get()\n",
    "\n",
    "    print(result)\n",
    "\n",
    "    # イベントの詳細を出力\n",
    "    for event in result.value:\n",
    "        print(f\"件名: {event.subject}\")\n",
    "        print(f\"開始日時: {event.start.date_time} ({event.start.time_zone})\")\n",
    "        print(f\"終了日時: {event.end.date_time} ({event.end.time_zone})\")\n",
    "        print(f\"場所: {event.location.display_name}\")\n",
    "        print(f\"参加者:\")\n",
    "        for attendee in event.attendees:\n",
    "            print(f\"  - {attendee.email_address.name} ({attendee.email_address.address})\")\n",
    "        print(f\"重要度: {event.importance}\")\n",
    "        print(f\"キャンセル済み: {event.is_cancelled}\")\n",
    "        print(f\"詳細: {event.body.content}\")\n",
    "        print(\"-\" * 40)\n",
    "\n",
    "# 非同期関数を実行\n",
    "# 取得したい会議室の ID を指定\n",
    "await get_user_events(room_id)"
   ]
  },
  {
   "cell_type": "markdown",
   "metadata": {},
   "source": [
    "## 空き時間スケジュールを取得 \n",
    "複数ユーザー、複数会議室指定  \n",
    "https://learn.microsoft.com/ja-jp/graph/api/calendar-getschedule?view=graph-rest-1.0&tabs=python  \n",
    "\n",
    "freeBusyStatus\t出席者の空き時間の状態。 \n",
    "https://learn.microsoft.com/ja-jp/graph/api/resources/attendeeavailability?view=graph-rest-1.0#properties  \n",
    "使用可能な値: free、tentative、busy、oof、workingElsewhere、unknown。  \n",
    "- free 空き時間\n",
    "- tentative 仮の予定\n",
    "- busy 予定あり\n",
    "- oof 不在\n",
    "- workingElsewhere 他の場所で仕事中\n",
    "- unknown\n"
   ]
  },
  {
   "cell_type": "code",
   "execution_count": null,
   "metadata": {},
   "outputs": [],
   "source": [
    "import asyncio\n",
    "\n",
    "# メールアドレスを格納するリスト\n",
    "email_addresses = []\n",
    "# ユーザー取得の最大件数を指定する変数\n",
    "max_users = 5  # 必要に応じて変更可能\n",
    "\n",
    "# .env で指定した user_id のメールアドレスを取得\n",
    "async def fetch_user(user_id):\n",
    "    result = await graph_client.users.by_user_id(user_id).get()\n",
    "    email_addresses.append(result.mail)\n",
    "    print(result.mail)\n",
    "\n",
    "# 会議室のメールアドレスを全件取得\n",
    "async def get_place():\n",
    "    result = await graph_client.places.graph_room.get()\n",
    "    for place in result.value:\n",
    "        email_addresses.append(place.email_address)\n",
    "        print(place.email_address)\n",
    "\n",
    "# ユーザー一覧を取得\n",
    "async def fetch_users():\n",
    "    users_response = await graph_client.users.get()  # UserCollectionResponse オブジェクトを取得\n",
    "    users = users_response.value  # ユーザーリストは value プロパティに格納されている\n",
    "    for user in users[:max_users]:  # 最初のmax_users件のみ取得\n",
    "        email_addresses.append(user.mail)\n",
    "        print(user.mail)\n",
    "\n",
    "# スケジュールを取得\n",
    "async def get_user_events(user_id):\n",
    "    from msgraph.generated.users.item.calendar.get_schedule.get_schedule_post_request_body import GetSchedulePostRequestBody\n",
    "    from msgraph.generated.models.date_time_time_zone import DateTimeTimeZone\n",
    "    from kiota_abstractions.base_request_configuration import RequestConfiguration\n",
    "\n",
    "    # スケジュールリクエストボディを作成\n",
    "    request_body = GetSchedulePostRequestBody(\n",
    "        schedules=email_addresses,  # 取得したメールアドレスを設定\n",
    "        start_time=DateTimeTimeZone(\n",
    "            date_time=\"2025-03-18T09:00:00\",\n",
    "            time_zone=\"Asia/Tokyo\",\n",
    "        ),\n",
    "        end_time=DateTimeTimeZone(\n",
    "            date_time=\"2025-04-30T18:00:00\",\n",
    "            time_zone=\"Asia/Tokyo\",\n",
    "        ),\n",
    "        availability_view_interval=60,\n",
    "    )\n",
    "\n",
    "    request_configuration = RequestConfiguration()\n",
    "    request_configuration.headers.add(\"Prefer\", \"outlook.timezone=\\\"Asia/Tokyo\\\"\")\n",
    "\n",
    "    result = await graph_client.users.by_user_id(user_id).calendar.get_schedule.post(\n",
    "        request_body, request_configuration=request_configuration\n",
    "    )\n",
    "\n",
    "    # 結果を整形して表示\n",
    "    print(\"スケジュール情報の取得結果:\\n\")\n",
    "    for schedule in result.value:\n",
    "        print(f\"メールアドレス: {schedule.schedule_id}\")\n",
    "        if schedule.error:\n",
    "            print(f\"  - エラー: {schedule.error.message}\")\n",
    "            print(f\"  - レスポンスコード: {schedule.error.response_code}\")\n",
    "        else:\n",
    "            print(\"  - スケジュール情報:\")\n",
    "            if schedule.schedule_items:\n",
    "                for item in schedule.schedule_items:\n",
    "                    print(f\"    - 開始: {item.start.date_time} ({item.start.time_zone})\")\n",
    "                    print(f\"      終了: {item.end.date_time} ({item.end.time_zone})\")\n",
    "                    print(f\"      状態: {item.status}\")\n",
    "            else:\n",
    "                print(\"    スケジュール情報はありません。\")\n",
    "        print(\"\\n\")\n",
    "\n",
    "# 非同期関数を実行\n",
    "# 取得したいユーザーの ID を指定\n",
    "await fetch_user(user_id)  # ユーザーのメールアドレスを取得\n",
    "await get_place()          # 会議室のメールアドレスを取得\n",
    "await fetch_users()        # ユーザー一覧からメールアドレスを取得\n",
    "await get_user_events(user_id)  # スケジュールを取得"
   ]
  }
 ],
 "metadata": {
  "kernelspec": {
   "display_name": ".venv",
   "language": "python",
   "name": "python3"
  },
  "language_info": {
   "codemirror_mode": {
    "name": "ipython",
    "version": 3
   },
   "file_extension": ".py",
   "mimetype": "text/x-python",
   "name": "python",
   "nbconvert_exporter": "python",
   "pygments_lexer": "ipython3",
   "version": "3.13.2"
  }
 },
 "nbformat": 4,
 "nbformat_minor": 2
}
